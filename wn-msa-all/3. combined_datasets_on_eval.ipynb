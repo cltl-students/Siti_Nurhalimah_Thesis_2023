{
 "cells": [
  {
   "cell_type": "code",
   "execution_count": 6,
   "id": "ee566570",
   "metadata": {},
   "outputs": [],
   "source": [
    "# Import dependencies\n",
    "import csv\n",
    "import os\n",
    "from classification_report_generator import generate_classification_report"
   ]
  },
  {
   "cell_type": "markdown",
   "id": "d536c08a",
   "metadata": {},
   "source": [
    "# Combining Wiktionary and OPUS data"
   ]
  },
  {
   "cell_type": "code",
   "execution_count": 7,
   "id": "f471942b",
   "metadata": {},
   "outputs": [
    {
     "name": "stdout",
     "output_type": "stream",
     "text": [
      "TSV files combined and saved as: ./data/combined_wiktionary_opus_file.tsv\n"
     ]
    }
   ],
   "source": [
    "def combine_tsv(tsv_file1, tsv_file2, output_file):\n",
    "    \"\"\"\n",
    "    Function to combine two TSV files into a single TSV file.\n",
    "\n",
    "    Param:\n",
    "        tsv_file1 (str): Path to the first input TSV file.\n",
    "        tsv_file2 (str): Path to the second input TSV file.\n",
    "        output_file (str): Path to the output TSV file.\n",
    "\n",
    "    Returns:\n",
    "        None\n",
    "    \"\"\"\n",
    "    combined_rows = []\n",
    "    with open(tsv_file1, 'r', encoding='utf-8') as file1, open(tsv_file2, 'r', encoding='utf-8') as file2:\n",
    "        reader1 = csv.DictReader(file1, delimiter='\\t')\n",
    "        reader2 = csv.DictReader(file2, delimiter='\\t')\n",
    "        combined_rows.extend(reader1)\n",
    "        combined_rows.extend(reader2)\n",
    "\n",
    "    fieldnames = ['synset', 'language', 'lemma', 'count', 'goodness labels']\n",
    "\n",
    "    with open(output_file, 'w', encoding='utf-8', newline='') as outfile:\n",
    "        writer = csv.DictWriter(outfile, fieldnames=fieldnames, delimiter='\\t')\n",
    "        writer.writeheader()\n",
    "        writer.writerows(combined_rows)\n",
    "\n",
    "tsv_file1 = './data/synset_output_wiktionary_with_labels.tsv'\n",
    "tsv_file2 = './data/synset_output_opus_with_labels.tsv'\n",
    "output_file = './data/combined_wiktionary_opus_file.tsv'\n",
    "\n",
    "combine_tsv(tsv_file1, tsv_file2, output_file)\n",
    "print(\"TSV files combined and saved as:\", output_file)"
   ]
  },
  {
   "cell_type": "markdown",
   "id": "8059ea7a",
   "metadata": {},
   "source": [
    "# Matching the combined dataset with the evaluation set to be run on the system with the best condition "
   ]
  },
  {
   "cell_type": "code",
   "execution_count": 8,
   "id": "3fd64587",
   "metadata": {},
   "outputs": [
    {
     "name": "stdout",
     "output_type": "stream",
     "text": [
      "TSV files merged and saved as: ./data/merged_file_opus_wiktionary_eval.tsv\n"
     ]
    }
   ],
   "source": [
    "def merge_tsv(tsv_file1, tsv_file2, output_file):\n",
    "    \"\"\"\n",
    "    Function to merge data from two TSV files based on a common 'synset' and 'lemma' fields,\n",
    "    and create a new TSV file containing the merged data.\n",
    "\n",
    "    Param:\n",
    "        tsv_file1 (str): The path to the first input TSV file.\n",
    "        tsv_file2 (str): The path to the second input TSV file.\n",
    "        output_file (str): The path to the output TSV file to save the merged data.\n",
    "\n",
    "    Returns:\n",
    "        None\n",
    "    \"\"\"\n",
    "    merged_rows = []\n",
    "\n",
    "    with open(tsv_file1, 'r', encoding='utf-8') as file1, open(tsv_file2, 'r', encoding='utf-8') as file2:\n",
    "        reader1 = csv.DictReader(file1, delimiter='\\t')\n",
    "        reader2 = csv.DictReader(file2, delimiter='\\t')\n",
    "        \n",
    "        # Create a dictionary to store rows from tsv_file1 for quick lookup\n",
    "        tsv1_rows = {row['synset']: row for row in reader1}\n",
    "\n",
    "        for row2 in reader2:\n",
    "            synset = row2['synset']\n",
    "            if synset in tsv1_rows:\n",
    "                row1 = tsv1_rows[synset]\n",
    "                confidence = int(row1['count'])\n",
    "                language = row1['language']\n",
    "            else:\n",
    "                confidence = 'None'\n",
    "                language = 'None'\n",
    "\n",
    "            merged_row = {\n",
    "                'synset': synset,\n",
    "                'lemma': row2['lemma'],\n",
    "                'annotation': row2['annotation'],\n",
    "                'goodness label': row2['goodness label'],\n",
    "                'confidence': confidence,\n",
    "                'language': language\n",
    "            }\n",
    "            merged_rows.append(merged_row)\n",
    "\n",
    "    fieldnames = ['synset', 'lemma', 'annotation', 'goodness label', 'confidence', 'language']\n",
    "    with open(output_file, 'w', encoding='utf-8', newline='') as outfile:\n",
    "        writer = csv.DictWriter(outfile, fieldnames=fieldnames, delimiter='\\t')\n",
    "        writer.writeheader()\n",
    "        writer.writerows(merged_rows)\n",
    "\n",
    "tsv_file1 = './data/combined_wiktionary_opus_file.tsv'\n",
    "tsv_file2 = './data/evaluation_set_with_labels.tsv'\n",
    "output_file = './data/merged_file_opus_wiktionary_eval.tsv'\n",
    "\n",
    "merge_tsv(tsv_file1, tsv_file2, output_file)\n",
    "print(\"TSV files merged and saved as:\", output_file)"
   ]
  },
  {
   "cell_type": "markdown",
   "id": "cd164c77",
   "metadata": {},
   "source": [
    "# Run the best condition"
   ]
  },
  {
   "cell_type": "code",
   "execution_count": 9,
   "id": "42fad6a7",
   "metadata": {},
   "outputs": [
    {
     "name": "stdout",
     "output_type": "stream",
     "text": [
      "Prediction labels saved to './predictions_results/wiktionary_opus_condition_five_eval.tsv' successfully.\n"
     ]
    }
   ],
   "source": [
    "def process_synsets(input_tsv_path, output_tsv_path, threshold):\n",
    "    \"\"\"\n",
    "    Function to process a TSV file, assigning prediction labels based on given criteria.\n",
    "    Param:\n",
    "        input_tsv_path (str): Path to the input TSV file.\n",
    "        output_tsv_path (str): Path to the output TSV file.\n",
    "        threshold (str): Threshold value for prediction label assignment.\n",
    "    Returns:\n",
    "        None\n",
    "    \"\"\"\n",
    "    with open(input_tsv_path, 'r', encoding='utf-8') as tsv_file:\n",
    "        reader = csv.DictReader(tsv_file, delimiter='\\t')\n",
    "        rows = list(reader)\n",
    "\n",
    "    with open(output_tsv_path, 'w', newline='', encoding='utf-8') as tsv_file:\n",
    "        writer = csv.writer(tsv_file, delimiter='\\t')\n",
    "        writer.writerow(['synset', 'lemma', 'annotation', 'prediction label'])\n",
    "\n",
    "        for row in rows:\n",
    "            synset = row['synset']\n",
    "            lemma = row['lemma']\n",
    "            annotation = row['annotation']\n",
    "            goodness_label = row['goodness label']\n",
    "            confidence_score = row['confidence']\n",
    "            language = row['language']\n",
    "            \n",
    "            label = assign_label(synset, confidence_score, language, goodness_label, threshold)\n",
    "\n",
    "            writer.writerow([synset, lemma, annotation, label])\n",
    "\n",
    "    print(f\"Prediction labels saved to '{output_tsv_path}' successfully.\")\n",
    "    \n",
    "## Condition 5\n",
    "def assign_label(synset, confidence_score, language, goodness_label, threshold):\n",
    "    \"\"\"\n",
    "    Function to assign a label to a synset based on given criteria.\n",
    "\n",
    "    Param:\n",
    "        synset (str): The synset to be labeled.\n",
    "        confidence_score (float): The confidence score associated with the synset.\n",
    "        language (str): The language of the synset.\n",
    "        goodness_label (str): The goodness label associated with the synset.\n",
    "        threshold (str): The threshold value used for comparison with confidence_score.\n",
    "\n",
    "    Returns:\n",
    "        str: The label assigned to the synset based on the predefined condition.\n",
    "    \"\"\"\n",
    "    if goodness_label == 'O' and synset.endswith('-v') and confidence_score == threshold and language == 'English': #0.5199\n",
    "        return 'DELETE'\n",
    "    elif goodness_label == 'X' and synset.endswith('-v') and confidence_score == threshold and language == 'English':\n",
    "        return 'DELETE'\n",
    "    else:\n",
    "        return 'KEEP'\n",
    "\n",
    "input_tsv_path = './data/merged_file_opus_wiktionary_eval.tsv'\n",
    "output_tsv_path = './predictions_results/wiktionary_opus_condition_five_eval.tsv'\n",
    "threshold = '1'\n",
    "process_synsets(input_tsv_path, output_tsv_path, threshold)"
   ]
  },
  {
   "cell_type": "markdown",
   "id": "06aab508",
   "metadata": {},
   "source": [
    "# Generating classification report for files stored in predictions_results folder"
   ]
  },
  {
   "cell_type": "code",
   "execution_count": 11,
   "id": "4b136fc0",
   "metadata": {},
   "outputs": [
    {
     "name": "stdout",
     "output_type": "stream",
     "text": [
      "Generating classification report for file: wiktionary_opus_condition_five_eval.tsv\n",
      "Confusion Matrix:\n",
      "True Positive (TP): 327\n",
      "True Negative (TN): 3718\n",
      "False Positive (FP): 379\n",
      "False Negative (FN): 500\n",
      "Precision: 0.4631728045325779\n",
      "Recall: 0.3954050785973398\n",
      "F1-score: 0.426614481409002\n"
     ]
    },
    {
     "data": {
      "image/png": "[encoded data removed]",
      "text/plain": [
       "<Figure size 640x480 with 2 Axes>"
      ]
     },
     "metadata": {},
     "output_type": "display_data"
    },
    {
     "name": "stdout",
     "output_type": "stream",
     "text": [
      "\n"
     ]
    }
   ],
   "source": [
    "folder_path = 'predictions_results'\n",
    "\n",
    "for filename in os.listdir(folder_path):\n",
    "    if filename.endswith('five_eval.tsv'):\n",
    "        file_path = os.path.join(folder_path, filename)\n",
    "        print(f\"Generating classification report for file: {filename}\")\n",
    "        generate_classification_report(file_path)\n",
    "        print() "
   ]
  },
  {
   "cell_type": "markdown",
   "id": "e5eff1bc",
   "metadata": {},
   "source": [
    "# Match the combined dataset prediction results on evaluation set for data analysis"
   ]
  },
  {
   "cell_type": "code",
   "execution_count": 13,
   "id": "04f483d3",
   "metadata": {},
   "outputs": [
    {
     "name": "stdout",
     "output_type": "stream",
     "text": [
      "KEEP:\n",
      "Total senses: 4097\n",
      "Suggested by 1 language: 2060\n",
      "Suggested by 1 language and that language is English: 701\n",
      "Has None in language and count: 1306\n",
      "Suggested by 2 languages: 327\n",
      "Suggested by 2 languages and one of the languages is English: 116\n",
      "Others: 0\n",
      "\n",
      "DELETE:\n",
      "Total senses: 827\n",
      "Suggested by 1 language: 634\n",
      "Suggested by 1 language and that language is English: 235\n",
      "Has None in language and count: 85\n",
      "Suggested by 2 languages: 81\n",
      "Suggested by 2 languages and one of the languages is English: 28\n",
      "Others: 0\n",
      "Total matches: 3533\n",
      "=============\n",
      "KEEP:\n",
      "Total senses: 4097\n",
      "Suggested by 1 language: 3175\n",
      "Suggested by 1 language and that language is English: 1922\n",
      "Has None in language and count: 763\n",
      "Suggested by 2 languages: 123\n",
      "Suggested by 2 languages and one of the languages is English: 82\n",
      "Others: 0\n",
      "\n",
      "DELETE:\n",
      "Total senses: 827\n",
      "Suggested by 1 language: 771\n",
      "Suggested by 1 language and that language is English: 487\n",
      "Has None in language and count: 52\n",
      "Suggested by 2 languages: 4\n",
      "Suggested by 2 languages and one of the languages is English: 2\n",
      "Others: 0\n",
      "Total matches: 4109\n"
     ]
    }
   ],
   "source": [
    "def count_senses(file_path):\n",
    "    \"\"\"\n",
    "    Function to count and categorize senses from a TSV file.\n",
    "\n",
    "    Param:\n",
    "        file_path (str): Path to the input TSV file.\n",
    "\n",
    "    Returns:\n",
    "        None\n",
    "    \"\"\"\n",
    "    with open(file_path, 'r', encoding='utf-8') as tsvfile:\n",
    "        tsvreader = csv.reader(tsvfile, delimiter='\\t')\n",
    "        header = next(tsvreader) \n",
    "\n",
    "        # Initialize counters for KEEP and DELETE\n",
    "        total_senses_k = 0\n",
    "        senses_k = 0\n",
    "        senses_english_k = 0\n",
    "        none_language_count_k = 0\n",
    "        senses_2_languages_k = 0\n",
    "        senses_2_english_k = 0\n",
    "        others_k = 0\n",
    "        \n",
    "        total_senses_d = 0\n",
    "        senses_d = 0\n",
    "        senses_english_d = 0\n",
    "        none_language_count_d = 0\n",
    "        senses_2_languages_d = 0\n",
    "        senses_2_english_d = 0\n",
    "        others_d = 0\n",
    "        total_match = 4924\n",
    "\n",
    "        for row in tsvreader:\n",
    "            synset, lemma, annotation, goodness, confidence, language = row\n",
    "            \n",
    "            if annotation == 'KEEP':\n",
    "                total_senses_k += 1\n",
    "                if confidence == '1':\n",
    "                    senses_k += 1\n",
    "                if confidence == '1' and language == 'English':\n",
    "                    senses_english_k += 1\n",
    "                if confidence == 'None' and language == 'None':  \n",
    "                    none_language_count_k += 1\n",
    "\n",
    "                if confidence == '2':\n",
    "                    senses_2_languages_k += 1\n",
    "\n",
    "                if confidence == '2' and 'English' in language:\n",
    "                    senses_2_english_k += 1\n",
    "\n",
    "            elif annotation == 'DELETE':\n",
    "                total_senses_d += 1\n",
    "\n",
    "                if confidence == '1':\n",
    "                    senses_d += 1\n",
    "\n",
    "                if confidence == '1' and language == 'English':\n",
    "                    senses_english_d += 1\n",
    "\n",
    "                if confidence == 'None' and language == 'None':  \n",
    "                    none_language_count_d += 1\n",
    "\n",
    "                if confidence == '2':\n",
    "                    senses_2_languages_d += 1\n",
    "\n",
    "                if confidence == '2' and 'English' in language:\n",
    "                    senses_2_english_d += 1\n",
    "\n",
    "        # Calculate \"Others\" count outside the loops\n",
    "#         others_k = total_senses_k - (senses_k + senses_english_k + none_language_count_k + senses_2_languages_k + senses_2_english_k)\n",
    "#         others_d = total_senses_d - (senses_d + senses_english_d + none_language_count_d + senses_2_languages_d + senses_2_english_d)\n",
    "\n",
    "    print(\"KEEP:\")\n",
    "    print(f\"Total senses: {total_senses_k}\")\n",
    "    print(f\"Suggested by 1 language: {senses_k}\")\n",
    "    print(f\"Suggested by 1 language and that language is English: {senses_english_k}\")\n",
    "    print(f\"Has None in language and count: {none_language_count_k}\")\n",
    "    print(f\"Suggested by 2 languages: {senses_2_languages_k}\")\n",
    "    print(f\"Suggested by 2 languages and one of the languages is English: {senses_2_english_k}\")\n",
    "    print(f\"Others: {others_k}\")\n",
    "    \n",
    "\n",
    "    print(\"\\nDELETE:\")\n",
    "    print(f\"Total senses: {total_senses_d}\")\n",
    "    print(f\"Suggested by 1 language: {senses_d}\")\n",
    "    print(f\"Suggested by 1 language and that language is English: {senses_english_d}\")\n",
    "    print(f\"Has None in language and count: {none_language_count_d}\")\n",
    "    print(f\"Suggested by 2 languages: {senses_2_languages_d}\")\n",
    "    print(f\"Suggested by 2 languages and one of the languages is English: {senses_2_english_d}\")\n",
    "    print(f\"Others: {others_d}\")\n",
    "    print(f\"Total matches: {total_match - (none_language_count_k + none_language_count_d)}\")\n",
    "\n",
    "file_path = \"./data/merged_file_wiktionary_eval.tsv\"\n",
    "count_senses(file_path)\n",
    "\n",
    "print('=============')\n",
    "file_path = \"./data/merged_file_opus_eval.tsv\"\n",
    "count_senses(file_path)"
   ]
  }
 ],
 "metadata": {
  "kernelspec": {
   "display_name": "Python 3 (ipykernel)",
   "language": "python",
   "name": "python3"
  },
  "language_info": {
   "codemirror_mode": {
    "name": "ipython",
    "version": 3
   },
   "file_extension": ".py",
   "mimetype": "text/x-python",
   "name": "python",
   "nbconvert_exporter": "python",
   "pygments_lexer": "ipython3",
   "version": "3.9.13"
  }
 },
 "nbformat": 4,
 "nbformat_minor": 5
}
