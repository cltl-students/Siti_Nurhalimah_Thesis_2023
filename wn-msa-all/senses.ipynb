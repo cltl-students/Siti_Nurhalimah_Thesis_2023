{
 "cells": [
  {
   "cell_type": "code",
   "execution_count": 15,
   "id": "51f78dd6",
   "metadata": {},
   "outputs": [
    {
     "name": "stderr",
     "output_type": "stream",
     "text": [
      "[nltk_data] Downloading package extended_omw to\n",
      "[nltk_data]     /Users/sitinurhalimah/nltk_data...\n",
      "[nltk_data]   Package extended_omw is already up-to-date!\n"
     ]
    }
   ],
   "source": [
    "# Import dependencies\n",
    "import nltk\n",
    "nltk.download('extended_omw')\n",
    "from nltk.corpus import wordnet as wn"
   ]
  },
  {
   "cell_type": "code",
   "execution_count": 2,
   "id": "b6eca4da",
   "metadata": {},
   "outputs": [
    {
     "data": {
      "text/plain": [
       "dict_keys(['eng', 'als', 'arb', 'bul', 'cmn', 'dan', 'ell', 'fin', 'fra', 'heb', 'hrv', 'isl', 'ita', 'ita_iwn', 'jpn', 'cat', 'eus', 'glg', 'spa', 'ind', 'zsm', 'nld', 'nno', 'nob', 'pol', 'por', 'ron', 'lit', 'slk', 'slv', 'swe', 'tha'])"
      ]
     },
     "execution_count": 2,
     "metadata": {},
     "output_type": "execute_result"
    }
   ],
   "source": [
    "wn.langs()"
   ]
  },
  {
   "cell_type": "code",
   "execution_count": 8,
   "id": "035639d8",
   "metadata": {},
   "outputs": [
    {
     "name": "stdout",
     "output_type": "stream",
     "text": [
      "19\n",
      "[Synset('frame.n.02'), Synset('illustration.n.04'), Synset('painting.n.01'), Synset('photograph.n.01'), Synset('photographic_print.n.01'), Synset('plate.n.03'), Synset('portrait.n.02'), Synset('snapshot.n.01'), Synset('figure.n.08'), Synset('mental_picture.n.01'), Synset('video.n.01'), Synset('movie.n.01'), Synset('illustration.n.01'), Synset('picture.n.05'), Synset('figure.n.01'), Synset('drawing.n.01'), Synset('word_picture.n.01'), Synset('portrayal.n.01'), Synset('figure.n.06')]\n"
     ]
    }
   ],
   "source": [
    "melukis = wn.synsets('gambar', lang='ind')\n",
    "print(len(melukis))\n",
    "print(melukis)"
   ]
  },
  {
   "cell_type": "code",
   "execution_count": 9,
   "id": "f700e3b0",
   "metadata": {},
   "outputs": [
    {
     "name": "stdout",
     "output_type": "stream",
     "text": [
      "Number of synsets: 19\n",
      "Offset: 3391464\n",
      "Offset: 3561345\n",
      "Offset: 3876519\n",
      "Offset: 3925226\n",
      "Offset: 3926575\n",
      "Offset: 3960664\n",
      "Offset: 3987079\n",
      "Offset: 4248607\n",
      "Offset: 4675646\n",
      "Offset: 5936704\n",
      "Offset: 6277803\n",
      "Offset: 6613686\n",
      "Offset: 6999233\n",
      "Offset: 6999436\n",
      "Offset: 6999647\n",
      "Offset: 7003119\n",
      "Offset: 7201804\n",
      "Offset: 7202391\n",
      "Offset: 13862780\n"
     ]
    }
   ],
   "source": [
    "word = 'gambar'\n",
    "language = 'ind'\n",
    "\n",
    "synsets = wn.synsets(word, lang=language)\n",
    "\n",
    "print(f\"Number of synsets: {len(synsets)}\")\n",
    "for synset in synsets:\n",
    "    offset = synset.offset()\n",
    "    print(f\"Offset: {offset}\")\n",
    "    \n",
    "# 13265425-n\tPolish, Portuguese, English\tMahar\n",
    "#15162388-n\n",
    "\n",
    "#76100082-x\n",
    "# 01528069-v"
   ]
  },
  {
   "cell_type": "code",
   "execution_count": 5,
   "id": "57eb0646",
   "metadata": {},
   "outputs": [
    {
     "name": "stdout",
     "output_type": "stream",
     "text": [
      "7330362\n",
      "[Synset('karma.n.01')]\n",
      "============\n",
      "13931436\n",
      "5208422\n",
      "6963951\n",
      "6371267\n",
      "6369216\n",
      "2534492\n",
      "1775782\n",
      "1037910\n",
      "834557\n",
      "3080351\n",
      "[Synset('love_affair.n.01'), Synset('romanticism.n.03'), Synset('romance.n.03'), Synset('love_story.n.01'), Synset('romance.n.05'), Synset('woo.v.02'), Synset('romance.v.02'), Synset('chat_up.v.01'), Synset('romance.v.04'), Synset('romance.a.01')]\n",
      "============\n",
      "7330362\n",
      "[Synset('karma.n.01')]\n"
     ]
    }
   ],
   "source": [
    "#{'Synset': '07330362-n', 'Language': 'Greek, Portuguese, Slovene, English', 'Indonesian Word': 'Karma', \n",
    "# 'Confidence Score': '4', 'Label': 'KEEP'}\n",
    "melukis = wn.synsets('karma', lang='ind')\n",
    "for synset in melukis:\n",
    "    offset = synset.offset()\n",
    "    print(offset)\n",
    "print(melukis)\n",
    "\n",
    "print('============')\n",
    "\n",
    "melukis = wn.synsets('Romance', lang='eng')\n",
    "for synset in melukis:\n",
    "    offset = synset.offset()\n",
    "    print(offset)\n",
    "print(melukis)\n",
    "\n",
    "print('============')\n",
    "\n",
    "melukis = wn.synsets('Carma', lang='por')\n",
    "for synset in melukis:\n",
    "    offset = synset.offset()\n",
    "    print(offset)\n",
    "print(melukis)\n"
   ]
  },
  {
   "cell_type": "code",
   "execution_count": 5,
   "id": "3bcbdc2b",
   "metadata": {},
   "outputs": [
    {
     "name": "stdout",
     "output_type": "stream",
     "text": [
      "[Synset('describe.v.01'), Synset('portray.v.01'), Synset('trace.v.02'), Synset('draw.v.19'), Synset('paint.v.03'), Synset('paint.v.01'), Synset('picture.v.02'), Synset('portray.v.04'), Synset('draw.v.06'), Synset('sketch.v.01')]\n"
     ]
    }
   ],
   "source": [
    "melukis = wn.synsets('描く', lang='jpn')\n",
    "print(melukis)"
   ]
  },
  {
   "cell_type": "code",
   "execution_count": 10,
   "id": "b92eaa13",
   "metadata": {},
   "outputs": [
    {
     "name": "stdout",
     "output_type": "stream",
     "text": [
      "[Synset('draw.n.01'), Synset('drawing_card.n.01'), Synset('draw.n.03'), Synset('draw.n.04'), Synset('draw.n.05'), Synset('hook.n.06'), Synset('draw.n.07'), Synset('draw.n.08'), Synset('draw.n.09'), Synset('pull.v.01'), Synset('reap.v.02'), Synset('trace.v.02'), Synset('draw.v.04'), Synset('draw.v.05'), Synset('draw.v.06'), Synset('draw.v.07'), Synset('describe.v.01'), Synset('draw.v.09'), Synset('draw.v.10'), Synset('puff.v.02'), Synset('draw.v.12'), Synset('withdraw.v.09'), Synset('draw.v.14'), Synset('draw.v.15'), Synset('draw.v.16'), Synset('draw.v.17'), Synset('draw.v.18'), Synset('draw.v.19'), Synset('draw.v.20'), Synset('draw.v.21'), Synset('draw.v.22'), Synset('draw.v.23'), Synset('pull.v.09'), Synset('absorb.v.04'), Synset('attract.v.01'), Synset('string.v.01'), Synset('pull_back.v.04'), Synset('guide.v.05'), Synset('tie.v.02'), Synset('draw.v.31'), Synset('draw.v.32'), Synset('draw.v.33'), Synset('disembowel.v.01'), Synset('draw.v.35'), Synset('draw.v.36')]\n"
     ]
    }
   ],
   "source": [
    "melukis = wn.synsets('draw', lang='eng')\n",
    "print(melukis)"
   ]
  },
  {
   "cell_type": "markdown",
   "id": "ce9d19d5",
   "metadata": {},
   "source": [
    "# Checking gloss of an offset"
   ]
  },
  {
   "cell_type": "code",
   "execution_count": 14,
   "id": "4335529d",
   "metadata": {},
   "outputs": [
    {
     "name": "stdout",
     "output_type": "stream",
     "text": [
      "Gloss: a particular branch of scientific knowledge\n"
     ]
    },
    {
     "name": "stderr",
     "output_type": "stream",
     "text": [
      "/var/folders/jz/x25r1rcd0pbg7q0nld0pn0b00000gn/T/ipykernel_2844/2300759728.py:4: DeprecationWarning: \n",
      "  Function _synset_from_pos_and_offset() has been deprecated.  Use\n",
      "  public method synset_from_pos_and_offset() instead\n",
      "  synset = wn._synset_from_pos_and_offset(offset[-1], int(offset[:-2]))\n"
     ]
    }
   ],
   "source": [
    "def get_gloss(offset):\n",
    "    \"\"\"\n",
    "    Function to retrieve the definition (gloss) of a WordNet synset using its offset.\n",
    "\n",
    "    Param:\n",
    "    offset (str): A string containing the synset offset and part-of-speech tag in the format \"offset-pos\".\n",
    "\n",
    "    Returns:\n",
    "    None\n",
    "    \"\"\"\n",
    "\n",
    "    synset = wn._synset_from_pos_and_offset(offset[-1], int(offset[:-2]))\n",
    "    if synset:\n",
    "        return synset.definition()\n",
    "    else:\n",
    "        return None\n",
    "\n",
    "input_offset = \"5999797-n\"\n",
    "gloss = get_gloss(input_offset)\n",
    "\n",
    "if gloss:\n",
    "    print(\"Gloss:\", gloss)\n",
    "else:\n",
    "    print(\"No gloss found for offset\", input_offset)\n"
   ]
  },
  {
   "cell_type": "markdown",
   "id": "28c28fc9",
   "metadata": {},
   "source": [
    "# Checking hypernym and hyponyms of a synset"
   ]
  },
  {
   "cell_type": "code",
   "execution_count": 14,
   "id": "37230882",
   "metadata": {},
   "outputs": [
    {
     "name": "stdout",
     "output_type": "stream",
     "text": [
      "Hypernyms:\n",
      "5999797 - a particular branch of scientific knowledge\n",
      "Hyponyms:\n",
      "6168552 - the use of computers for linguistic research and applications\n",
      "6181584 - a description (at a given point in time) of a language with respect to its phonology and morphology and syntax and semantics without value judgments\n",
      "6168703 - the study of the geographical distribution of linguistic features\n",
      "6168855 - the study of the sources and development of words\n",
      "6169050 - the study of linguistic change\n",
      "6179290 - the branch of linguistics that studies the relation between language and the structure and function of the nervous system\n",
      "6179492 - the study of language use\n",
      "6181893 - an account of how a language should be used instead of how it is actually used; a prescription for the `correct' phonology and morphology and syntax and semantics\n",
      "6179792 - the study of language meaning\n",
      "6181123 - the study of language in relation to its sociocultural context\n",
      "6181284 - linguistics defined as the analysis of formal structures in a text or discourse\n",
      "6181448 - the study of a language without reference to its historical context\n"
     ]
    },
    {
     "name": "stderr",
     "output_type": "stream",
     "text": [
      "/var/folders/jz/x25r1rcd0pbg7q0nld0pn0b00000gn/T/ipykernel_1536/473081253.py:4: DeprecationWarning: \n",
      "  Function _synset_from_pos_and_offset() has been deprecated.  Use\n",
      "  public method synset_from_pos_and_offset() instead\n",
      "  synset = wn._synset_from_pos_and_offset(offset[-1], int(offset[:-2]))\n",
      "/var/folders/jz/x25r1rcd0pbg7q0nld0pn0b00000gn/T/ipykernel_1536/473081253.py:12: DeprecationWarning: \n",
      "  Function _synset_from_pos_and_offset() has been deprecated.  Use\n",
      "  public method synset_from_pos_and_offset() instead\n",
      "  synset = wn._synset_from_pos_and_offset(offset[-1], int(offset[:-2]))\n"
     ]
    }
   ],
   "source": [
    "def get_hypernyms(offset):\n",
    "    \"\"\"\n",
    "    Function to get hypernyms of a synset\n",
    "    \n",
    "    Param:\n",
    "    offset (str): A string containing the synset offset and part-of-speech tag in the format \"offset-pos\".\n",
    "    \n",
    "    Return:\n",
    "    None\n",
    "    \n",
    "    \"\"\"\n",
    "    synset = wn._synset_from_pos_and_offset(offset[-1], int(offset[:-2]))\n",
    "    if synset:\n",
    "        hypernyms = synset.hypernyms()\n",
    "        return hypernyms\n",
    "    else:\n",
    "        return None\n",
    "\n",
    "def get_hyponyms(offset):\n",
    "    \"\"\"\n",
    "    Function to get hyponyms of a synset\n",
    "    \n",
    "    Param:\n",
    "    offset (str): A string containing the synset offset and part-of-speech tag in the format \"offset-pos\".\n",
    "    \n",
    "    Return:\n",
    "    None\n",
    "    \n",
    "    \"\"\"\n",
    "    synset = wn._synset_from_pos_and_offset(offset[-1], int(offset[:-2]))\n",
    "    if synset:\n",
    "        hyponyms = synset.hyponyms()\n",
    "        return hyponyms\n",
    "    else:\n",
    "        return None\n",
    "\n",
    "input_offset = \"6172789-n\"\n",
    "hypernyms = get_hypernyms(input_offset)\n",
    "hyponyms = get_hyponyms(input_offset)\n",
    "\n",
    "if hypernyms:\n",
    "    print(\"Hypernyms:\")\n",
    "    for hypernym in hypernyms:\n",
    "        print(hypernym.offset(), \"-\", hypernym.definition())\n",
    "\n",
    "if hyponyms:\n",
    "    print(\"Hyponyms:\")\n",
    "    for hyponym in hyponyms:\n",
    "        print(hyponym.offset(), \"-\", hyponym.definition())\n"
   ]
  }
 ],
 "metadata": {
  "kernelspec": {
   "display_name": "Python 3 (ipykernel)",
   "language": "python",
   "name": "python3"
  },
  "language_info": {
   "codemirror_mode": {
    "name": "ipython",
    "version": 3
   },
   "file_extension": ".py",
   "mimetype": "text/x-python",
   "name": "python",
   "nbconvert_exporter": "python",
   "pygments_lexer": "ipython3",
   "version": "3.9.13"
  }
 },
 "nbformat": 4,
 "nbformat_minor": 5
}
