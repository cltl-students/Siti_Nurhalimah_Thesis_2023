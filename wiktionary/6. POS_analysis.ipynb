{
 "cells": [
  {
   "cell_type": "code",
   "execution_count": 1,
   "id": "3720c3b6",
   "metadata": {},
   "outputs": [
    {
     "name": "stdout",
     "output_type": "stream",
     "text": [
      "           POS  count  percentage\n",
      "4      n o u n   7501   70.011200\n",
      "0        a d j   1123   10.481613\n",
      "7      v e r b    912    8.512227\n",
      "3      n a m e    642    5.992160\n",
      "5       others    239    2.230726\n",
      "1        a d v    146    1.362703\n",
      "6  p h r a s e     91    0.849356\n",
      "2      i n t j     60    0.560015\n",
      "Total POS count: 10714\n"
     ]
    }
   ],
   "source": [
    "# Import dependencies\n",
    "import pandas as pd\n",
    "df = pd.read_csv('./data/output_senses.tsv', delimiter='\\t')\n",
    "\n",
    "df_unique = df.drop_duplicates(subset=['POS', 'Sense'])\n",
    "\n",
    "pos_counts = df_unique['POS'].value_counts().reset_index()\n",
    "pos_counts.columns = ['POS', 'count']\n",
    "pos_counts['percentage'] = pos_counts['count'] / pos_counts['count'].sum() * 100\n",
    "\n",
    "pos_counts = pos_counts.sort_values('count', ascending=False)\n",
    "\n",
    "pos_counts.loc[pos_counts['percentage'] < 0.5, 'POS'] = 'others'\n",
    "\n",
    "pos_counts = pos_counts.groupby('POS').sum().reset_index()\n",
    "\n",
    "pos_counts = pos_counts.sort_values('count', ascending=False)\n",
    "\n",
    "total_pos_count = pos_counts['count'].sum()\n",
    "\n",
    "print(pos_counts)\n",
    "print('Total POS count:', total_pos_count)"
   ]
  },
  {
   "cell_type": "code",
   "execution_count": 2,
   "id": "1b6a6eae",
   "metadata": {},
   "outputs": [
    {
     "name": "stdout",
     "output_type": "stream",
     "text": [
      "                      POS  count  percentage\n",
      "0                 n o u n   7501   70.011200\n",
      "1                   a d j   1123   10.481613\n",
      "2                 v e r b    912    8.512227\n",
      "3                 n a m e    642    5.992160\n",
      "4                   a d v    146    1.362703\n",
      "5             p h r a s e     91    0.849356\n",
      "6                 i n t j     60    0.560015\n",
      "7                 p r e p     43    0.401344\n",
      "8                 p r o n     30    0.280007\n",
      "10          p r o v e r b     26    0.242673\n",
      "9                 c o n j     26    0.242673\n",
      "11                  d e t     24    0.224006\n",
      "12                  n u m     23    0.214672\n",
      "13            p r e f i x     23    0.214672\n",
      "14            s u f f i x     21    0.196005\n",
      "15  p r e p _ p h r a s e     20    0.186672\n",
      "16        p a r t i c l e      2    0.018667\n",
      "17            s y m b o l      1    0.009334\n",
      "Total POS count: 10714\n"
     ]
    }
   ],
   "source": [
    "df = pd.read_csv('./data/output_senses.tsv', delimiter='\\t')\n",
    "\n",
    "df_unique = df.drop_duplicates(subset=['POS', 'Sense'])\n",
    "\n",
    "pos_counts = df_unique['POS'].value_counts().reset_index()\n",
    "\n",
    "pos_counts.columns = ['POS', 'count']\n",
    "\n",
    "pos_counts['percentage'] = pos_counts['count'] / pos_counts['count'].sum() * 100\n",
    "\n",
    "pos_counts = pos_counts.sort_values('count', ascending=False)\n",
    "\n",
    "total_pos_count = pos_counts['count'].sum()\n",
    "\n",
    "print(pos_counts)\n",
    "print('Total POS count:', total_pos_count)"
   ]
  }
 ],
 "metadata": {
  "kernelspec": {
   "display_name": "Python 3 (ipykernel)",
   "language": "python",
   "name": "python3"
  },
  "language_info": {
   "codemirror_mode": {
    "name": "ipython",
    "version": 3
   },
   "file_extension": ".py",
   "mimetype": "text/x-python",
   "name": "python",
   "nbconvert_exporter": "python",
   "pygments_lexer": "ipython3",
   "version": "3.9.13"
  }
 },
 "nbformat": 4,
 "nbformat_minor": 5
}
