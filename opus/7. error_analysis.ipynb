{
 "cells": [
  {
   "cell_type": "code",
   "execution_count": null,
   "id": "5da74455",
   "metadata": {},
   "outputs": [],
   "source": [
    "# Import dependencies\n",
    "import pandas as pd"
   ]
  },
  {
   "cell_type": "code",
   "execution_count": 1,
   "id": "d32ae4df",
   "metadata": {},
   "outputs": [],
   "source": [
    "def merge_tsv_files(tsv_file1, tsv_file2, output_file):\n",
    "    \"\"\"\n",
    "    Function to merge the dataframes from both files based on the common columns.\n",
    "    Param:\n",
    "        tsv_file1 (str): Path to the first TSV file to be merged.\n",
    "        tsv_file2 (str): Path to the second TSV file to be merged.\n",
    "        output_file (str): Path to the output TSV file where the merged data will be saved.\n",
    "    Returns:\n",
    "        None\n",
    "    \"\"\"\n",
    "    df1 = pd.read_csv(tsv_file1, sep='\\t')\n",
    "    df2 = pd.read_csv(tsv_file2, sep='\\t')\n",
    "\n",
    "    merged_df = pd.merge(df1, df2[['synset', 'lemma', 'annotation', 'prediction label']], on=['synset', 'lemma', 'annotation'], how='left')\n",
    "    merged_df.to_csv(output_file, sep='\\t', index=False)\n",
    "\n",
    "if __name__ == '__main__':\n",
    "    tsv_file1 = './data/merged_file_opus.tsv'\n",
    "    tsv_file2 = './predictions_results/opus_condition_five.tsv'\n",
    "    output_file = \"./data/error_analysis_opus.tsv\"\n",
    "\n",
    "    merge_tsv_files(tsv_file1, tsv_file2, output_file)"
   ]
  },
  {
   "cell_type": "code",
   "execution_count": 7,
   "id": "71c64789",
   "metadata": {},
   "outputs": [
    {
     "name": "stdout",
     "output_type": "stream",
     "text": [
      "          synset               lemma annotation goodness label confidence  \\\n",
      "17    03670849-n               dawai     DELETE              O          1   \n",
      "53    00524682-v    menjelma menjadi     DELETE              X          1   \n",
      "62    01156834-v         mencernakan     DELETE              O          1   \n",
      "67    08588152-n     sebelah dlm,dlm     DELETE              X          1   \n",
      "94    02620587-v    terdiri daripada     DELETE              X          1   \n",
      "...          ...                 ...        ...            ...        ...   \n",
      "7303  00605516-a  mengikut kebiasaan     DELETE              X       None   \n",
      "7309  13863771-n               jalur     DELETE              O          1   \n",
      "7313  13910384-n             ruangan     DELETE              Y          1   \n",
      "7322  01692969-a             ke luar     DELETE           None          1   \n",
      "7329  08430568-n              rangka     DELETE              O          1   \n",
      "\n",
      "     language prediction label  \n",
      "17    Spanish             KEEP  \n",
      "53    Finnish             KEEP  \n",
      "62    Spanish             KEEP  \n",
      "67    English             KEEP  \n",
      "94    Spanish             KEEP  \n",
      "...       ...              ...  \n",
      "7303     None             KEEP  \n",
      "7309  Spanish             KEEP  \n",
      "7313  English             KEEP  \n",
      "7322  English             KEEP  \n",
      "7329     Thai             KEEP  \n",
      "\n",
      "[733 rows x 7 columns]\n"
     ]
    }
   ],
   "source": [
    "file_path = './data/error_analysis_opus.tsv'\n",
    "\n",
    "df = pd.read_csv(file_path, delimiter='\\t')\n",
    "filtered_rows = []\n",
    "for index, row in df.iterrows():\n",
    "    annotation = row['annotation']\n",
    "    prediction = row['prediction label']\n",
    "    goodness_label = row['goodness label']\n",
    "    language = row['language']\n",
    "    if annotation == 'DELETE' and prediction == 'KEEP':\n",
    "        filtered_rows.append(row)\n",
    "\n",
    "result_df = pd.DataFrame(filtered_rows)\n",
    "print(result_df)\n",
    "\n",
    "#X = 102\n",
    "#O = 499"
   ]
  },
  {
   "cell_type": "code",
   "execution_count": 8,
   "id": "ff778e6e",
   "metadata": {},
   "outputs": [
    {
     "name": "stdout",
     "output_type": "stream",
     "text": [
      "733\n",
      "Total: 733\n",
      "Confidence 1: 0\n",
      "Spanish: 182\n",
      "Finnish: 96\n",
      "English: 256\n",
      "Slovene: 10\n",
      "Portuguese: 25\n",
      "None: 67\n",
      "Arabic: 41\n",
      "Thai: 10\n",
      "Greek: 35\n",
      "Japanese, English: 3\n",
      "Japanese: 1\n",
      "English, Spanish: 4\n",
      "English, Slovene: 1\n",
      "Slovene, Portuguese: 1\n",
      "Polish: 1\n"
     ]
    }
   ],
   "source": [
    "file_path = './data/error_analysis_opus.tsv'\n",
    "df = pd.read_csv(file_path, delimiter='\\t')\n",
    "\n",
    "filtered_rows = []\n",
    "language_counts = {}\n",
    "\n",
    "for index, row in df.iterrows():\n",
    "    annotation = row['annotation']\n",
    "    prediction = row['prediction label']\n",
    "    goodness_label = row['goodness label']\n",
    "    language = row['language']\n",
    "    confidence = row['confidence'] \n",
    "    if annotation == 'DELETE' and prediction == 'KEEP' :\n",
    "        filtered_rows.append(row)\n",
    "        if language in language_counts:\n",
    "            language_counts[language] += 1\n",
    "        else:\n",
    "            language_counts[language] = 1\n",
    "\n",
    "result_df = pd.DataFrame(filtered_rows)\n",
    "\n",
    "print(len(result_df))\n",
    "print(\"Total:\", len(result_df))\n",
    "print(\"Confidence 1:\", len(result_df[result_df['confidence'] == 1]))\n",
    "\n",
    "for language, count in language_counts.items():\n",
    "        print(f\"{language}: {count}\")"
   ]
  }
 ],
 "metadata": {
  "kernelspec": {
   "display_name": "Python 3 (ipykernel)",
   "language": "python",
   "name": "python3"
  },
  "language_info": {
   "codemirror_mode": {
    "name": "ipython",
    "version": 3
   },
   "file_extension": ".py",
   "mimetype": "text/x-python",
   "name": "python",
   "nbconvert_exporter": "python",
   "pygments_lexer": "ipython3",
   "version": "3.9.13"
  }
 },
 "nbformat": 4,
 "nbformat_minor": 5
}
