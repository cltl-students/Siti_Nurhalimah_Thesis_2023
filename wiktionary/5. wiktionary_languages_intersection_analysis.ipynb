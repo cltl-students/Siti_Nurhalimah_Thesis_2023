{
 "cells": [
  {
   "cell_type": "code",
   "execution_count": 2,
   "id": "bdcfd5a0",
   "metadata": {},
   "outputs": [
    {
     "name": "stdout",
     "output_type": "stream",
     "text": [
      "Number of Languages Intersecting\tNumber of Sense Candidates\n",
      "1\t59596\n",
      "2\t8886\n",
      "3\t3807\n",
      "4\t2071\n",
      "5\t1360\n",
      "6\t866\n",
      "7\t545\n",
      "8\t262\n",
      "9\t106\n",
      "10\t30\n",
      "11\t2\n"
     ]
    }
   ],
   "source": [
    "# Import dependencies\n",
    "import csv\n",
    "with open('./data/synsets_output_wiktionary.tsv', 'r') as tsv_file:\n",
    "    reader = csv.reader(tsv_file, delimiter='\\t')\n",
    "    next(reader)\n",
    "    language_counts = {}\n",
    "\n",
    "    for row in reader:\n",
    "        languages = row[1].split(', ')\n",
    "        num_languages = len(languages)\n",
    "\n",
    "        if num_languages in language_counts:\n",
    "            language_counts[num_languages] += 1\n",
    "        else:\n",
    "            language_counts[num_languages] = 1\n",
    "\n",
    "print('Number of Languages Intersecting\\tNumber of Sense Candidates')\n",
    "for num_languages, count in sorted(language_counts.items()):\n",
    "    print(f'{num_languages}\\t{count}')\n"
   ]
  }
 ],
 "metadata": {
  "kernelspec": {
   "display_name": "Python 3 (ipykernel)",
   "language": "python",
   "name": "python3"
  },
  "language_info": {
   "codemirror_mode": {
    "name": "ipython",
    "version": 3
   },
   "file_extension": ".py",
   "mimetype": "text/x-python",
   "name": "python",
   "nbconvert_exporter": "python",
   "pygments_lexer": "ipython3",
   "version": "3.9.13"
  }
 },
 "nbformat": 4,
 "nbformat_minor": 5
}
