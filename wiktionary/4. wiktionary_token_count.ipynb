{
 "cells": [
  {
   "cell_type": "code",
   "execution_count": 1,
   "id": "6dedab9f",
   "metadata": {},
   "outputs": [],
   "source": [
    "# Import dependencies\n",
    "import csv"
   ]
  },
  {
   "cell_type": "code",
   "execution_count": 2,
   "id": "76c409c1",
   "metadata": {},
   "outputs": [
    {
     "name": "stdout",
     "output_type": "stream",
     "text": [
      "Number of lines: 10714\n"
     ]
    }
   ],
   "source": [
    "filename = './data/output_wiktionary.tsv'\n",
    "line_count = 0\n",
    "\n",
    "with open(filename, 'r', encoding='utf-8') as file:\n",
    "    reader = csv.reader(file, delimiter='\\t')\n",
    "    line_count = sum(1 for _ in reader) - 1\n",
    "\n",
    "print(\"Number of lines:\", line_count)"
   ]
  },
  {
   "cell_type": "code",
   "execution_count": 3,
   "id": "c4f8083b",
   "metadata": {},
   "outputs": [
    {
     "name": "stdout",
     "output_type": "stream",
     "text": [
      "Total = 100,549\n",
      "Indonesian = 10,714\n",
      "English = 10,714\n",
      "Finnish = 9,911\n",
      "Portuguese = 8,972\n",
      "Mandarin Chinese = 8,278\n",
      "Polish = 8,172\n",
      "Greek = 7,398\n",
      "Spanish = 7,341\n",
      "Japanese = 7,148\n",
      "Arabic = 6,422\n",
      "Serbo-Croatian = 6,025\n",
      "Thai = 5,179\n",
      "Slovene = 4,275\n"
     ]
    }
   ],
   "source": [
    "def count_tokens_per_language(file_path):\n",
    "    \"\"\"\n",
    "    Function to count the number of tokens per language in a TSV file.\n",
    "\n",
    "    Param:\n",
    "        file_path (str): Path to the input TSV file.\n",
    "\n",
    "    Returns:\n",
    "        dict: A dictionary containing language-wise token counts, with 'Total' representing the overall count.\n",
    "    \"\"\"\n",
    "    token_counts = {}\n",
    "    total_count = 0  # Initialize total count\n",
    "\n",
    "    with open(file_path, 'r', encoding='utf-8') as tsv_file:\n",
    "        reader = csv.reader(tsv_file, delimiter='\\t')\n",
    "        header = next(reader)  \n",
    "\n",
    "        for row in reader:\n",
    "            for language, token in zip(header, row):\n",
    "                if token != 'None':\n",
    "                    token_counts[language] = token_counts.get(language, 0) + 1\n",
    "                    total_count += 1  # Increment total count\n",
    "\n",
    "    token_counts['Total'] = total_count  # Add total count to token_counts dictionary\n",
    "\n",
    "    return token_counts\n",
    "\n",
    "file_path = './data/output_wiktionary.tsv'\n",
    "\n",
    "results = count_tokens_per_language(file_path)\n",
    "\n",
    "# Sort the token counts in descending order\n",
    "sorted_results = sorted(results.items(), key=lambda x: x[1], reverse=True)\n",
    "\n",
    "for language, count in sorted_results:\n",
    "    count_str = f\"{count:,}\"\n",
    "    print(f\"{language} = {count_str}\")\n",
    "\n"
   ]
  }
 ],
 "metadata": {
  "kernelspec": {
   "display_name": "Python 3 (ipykernel)",
   "language": "python",
   "name": "python3"
  },
  "language_info": {
   "codemirror_mode": {
    "name": "ipython",
    "version": 3
   },
   "file_extension": ".py",
   "mimetype": "text/x-python",
   "name": "python",
   "nbconvert_exporter": "python",
   "pygments_lexer": "ipython3",
   "version": "3.9.13"
  }
 },
 "nbformat": 4,
 "nbformat_minor": 5
}
