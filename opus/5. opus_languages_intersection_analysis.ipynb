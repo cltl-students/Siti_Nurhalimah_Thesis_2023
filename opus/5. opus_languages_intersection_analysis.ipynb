{
 "cells": [
  {
   "cell_type": "code",
   "execution_count": 7,
   "id": "4285f552",
   "metadata": {},
   "outputs": [
    {
     "name": "stdout",
     "output_type": "stream",
     "text": [
      "Number of Languages Intersecting\tNumber of Sense Candidates\n",
      "1\t1120248\n",
      "2\t35223\n",
      "3\t10434\n",
      "4\t3295\n",
      "5\t986\n",
      "6\t283\n",
      "7\t71\n",
      "8\t8\n"
     ]
    }
   ],
   "source": [
    "# Import dependencies\n",
    "import csv\n",
    "with open('./data/synsets_output_opus.tsv', 'r') as tsv_file:\n",
    "    reader = csv.reader(tsv_file, delimiter='\\t')\n",
    "    next(reader)\n",
    "    language_counts = {}\n",
    "    for row in reader:\n",
    "        languages = row[1].split(', ')\n",
    "        num_languages = len(languages)\n",
    "\n",
    "        if num_languages in language_counts:\n",
    "            language_counts[num_languages] += 1\n",
    "        else:\n",
    "            language_counts[num_languages] = 1\n",
    "            \n",
    "print('Number of Languages Intersecting\\tNumber of Sense Candidates')\n",
    "for num_languages, count in sorted(language_counts.items()):\n",
    "    print(f'{num_languages}\\t{count}')"
   ]
  }
 ],
 "metadata": {
  "kernelspec": {
   "display_name": "Python 3 (ipykernel)",
   "language": "python",
   "name": "python3"
  },
  "language_info": {
   "codemirror_mode": {
    "name": "ipython",
    "version": 3
   },
   "file_extension": ".py",
   "mimetype": "text/x-python",
   "name": "python",
   "nbconvert_exporter": "python",
   "pygments_lexer": "ipython3",
   "version": "3.9.13"
  }
 },
 "nbformat": 4,
 "nbformat_minor": 5
}
